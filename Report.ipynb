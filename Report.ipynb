{
 "cells": [
  {
   "cell_type": "markdown",
   "id": "45b1ab52-0d55-4417-897d-b9d06af1ea3f",
   "metadata": {},
   "source": [
    "# Inference optimization on pytorch models pretrained on COCO dataset\n",
    "\n",
    "In this project I used the [ONNX runtime](ONNX.com) to optimize pretrained pytorch models for faster inference.\n",
    "\n",
    "I demonstrate the effectiveness of this optimization by benchmarking two different model architectures, on an object detection and annotation task over a collection of 48 stock photos and a 25 seconds stock video clip, with and without the ONNX runtime. "
   ]
  },
  {
   "cell_type": "markdown",
   "id": "262267f2-8040-4f07-8846-6936eecaab7a",
   "metadata": {},
   "source": [
    "## ONNX runtime"
   ]
  },
  {
   "cell_type": "markdown",
   "id": "2b2f5512-3826-453f-b358-46f841b9bade",
   "metadata": {},
   "source": [
    "## 2D Detection"
   ]
  },
  {
   "cell_type": "markdown",
   "id": "86420c3a-fdcf-45af-9a3e-87b1180e93d5",
   "metadata": {},
   "source": [
    "## Pytorch Models\n",
    "\n",
    "### FasterRCNN resnet50FPN \n",
    "\n",
    "### Fully Convolution One Stage resnet50FPN \n",
    "\n",
    "### Exporting models to ONNX\n",
    "dynax does not work, use export"
   ]
  },
  {
   "cell_type": "markdown",
   "id": "0f77a250-f719-4521-a3c4-525065ee3ce8",
   "metadata": {},
   "source": [
    "## Benchmark on photos"
   ]
  },
  {
   "cell_type": "markdown",
   "id": "863e571a-9704-414d-90ad-d0d2e7dea647",
   "metadata": {},
   "source": [
    "## Benchmark on video"
   ]
  },
  {
   "cell_type": "markdown",
   "id": "81ff2e1c-a8d5-4f4e-89ea-4f1d73da71a5",
   "metadata": {},
   "source": []
  },
  {
   "cell_type": "markdown",
   "id": "f9eb5514-9e96-4df6-8984-8f029439c6e4",
   "metadata": {},
   "source": []
  },
  {
   "cell_type": "markdown",
   "id": "20f35564-667f-44bd-beac-d0621adf6a03",
   "metadata": {},
   "source": []
  },
  {
   "cell_type": "markdown",
   "id": "00411f29-9950-4112-84c4-28e2540e1e23",
   "metadata": {},
   "source": []
  }
 ],
 "metadata": {
  "kernelspec": {
   "display_name": "Python 3 (ipykernel)",
   "language": "python",
   "name": "python3"
  },
  "language_info": {
   "codemirror_mode": {
    "name": "ipython",
    "version": 3
   },
   "file_extension": ".py",
   "mimetype": "text/x-python",
   "name": "python",
   "nbconvert_exporter": "python",
   "pygments_lexer": "ipython3",
   "version": "3.10.14"
  }
 },
 "nbformat": 4,
 "nbformat_minor": 5
}
