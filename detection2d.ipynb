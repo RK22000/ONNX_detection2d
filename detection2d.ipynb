{
 "cells": [
  {
   "cell_type": "code",
   "execution_count": 20,
   "id": "928bfe01-bf71-4b1a-a933-6eacc50ac9bf",
   "metadata": {},
   "outputs": [],
   "source": [
    "# All util functions\n",
    "\n",
    "import os\n",
    "import random\n",
    "import math\n",
    "from torchvision.io.image import decode_image\n",
    "from torchvision.models.detection import fasterrcnn_resnet50_fpn_v2, FasterRCNN_ResNet50_FPN_V2_Weights\n",
    "from torchvision.models.detection import fcos_resnet50_fpn, FCOS_ResNet50_FPN_Weights\n",
    "from torchvision.utils import draw_bounding_boxes\n",
    "from torchvision.transforms.functional import to_pil_image\n",
    "import torch\n",
    "import onnxruntime as ort\n",
    "import numpy as np \n",
    "from tqdm import tqdm\n",
    "import logging\n",
    "import cv2 \n",
    "\n",
    "\n",
    "\n",
    "def batched(array, size):\n",
    "    array_iter = iter(array) \n",
    "    while True: \n",
    "        b = []\n",
    "        try: [b.append(next(array_iter)) for _ in range(size)]\n",
    "        except: StopIteration\n",
    "        if b: yield b \n",
    "        else: break\n",
    "\n",
    "def annotate(img, prediction, categories):\n",
    "    labels = [categories[i] for i in prediction[\"labels\"]]\n",
    "    boxes = prediction['boxes']\n",
    "    box = draw_bounding_boxes(\n",
    "        image=img, \n",
    "        boxes=boxes, \n",
    "        labels=labels, \n",
    "        colors=\"red\", \n",
    "        width=4, \n",
    "        font=\"Helvetica.ttf\" if os.path.exists(\"Helvetica.ttf\") else None, \n",
    "        font_size=30\n",
    "    )\n",
    "    im = to_pil_image(box.detach())\n",
    "    return im\n",
    "\n",
    "def annotate_batch(images, predictions, categories, thresh=0.5): \n",
    "    annotated_images = [] \n",
    "    for image, prediction in zip(images, predictions): \n",
    "        prediction = {\n",
    "            k: prediction[k][prediction['scores']>thresh] for k in prediction\n",
    "        }\n",
    "        annotated_images.append(annotate(image, prediction, categories)) \n",
    "    return annotated_images\n",
    "\n",
    "def filter_prediction(prediction, thresh=0.5): \n",
    "    if not isinstance(prediction, dict):\n",
    "        return [filter_predictions(pred, thresh) for pred in predictions]\n",
    "    return {\n",
    "        k: prediction[k][prediction['scores']>thresh] for k in prediction\n",
    "    }\n",
    "\n",
    "\n",
    "class ONNX_model: \n",
    "    def __init__(self, model_file): \n",
    "        self.session = ort.InferenceSession(model_file, provider_options=ort.get_available_providers()) # from https://onnxruntime.ai/docs/api/python/tutorial.html\n",
    "    def infer(self, input_img): \n",
    "        input_img = np.asarray(input_img)\n",
    "        input_img = input_img.reshape(1, *input_img.shape)\n",
    "        input_name = self.session.get_inputs()[0].name\n",
    "        output_names = [out.name for out in self.session.get_outputs()] \n",
    "        outputs = self.session.run(output_names, {input_name: input_img}) \n",
    "        return { \n",
    "            name: torch.from_numpy(op) for name, op in zip(output_names, outputs) \n",
    "        }\n",
    "    def __call__(self, input_batch):\n",
    "        return [self.infer(img) for img in input_batch] \n",
    "\n",
    "\n",
    "def get_model_and_weights(builder_func=fcos_resnet50_fpn, weight_class=FCOS_ResNet50_FPN_Weights, get_onnx=False): \n",
    "    logger = logging.getLogger(\"model_and_weights\")\n",
    "    weights = weight_class.DEFAULT\n",
    "    if not get_onnx: \n",
    "        model = builder_func(weights=weights, box_score_thresh=0.9)\n",
    "        model.eval()\n",
    "        return model, weights\n",
    "    else: \n",
    "        model_file = str(weights.DEFAULT)+'.onnx' \n",
    "        if os.path.exists(model_file): \n",
    "            model = ONNX_model(model_file) \n",
    "            return model, weights \n",
    "        else: \n",
    "            logger.info(f\"{model_file} not found, exporting pytorch model to {model_file}\") \n",
    "            model, _ = get_model_and_weights(builder_func, weight_class, get_onnx=False) \n",
    "            dummy_input = torch.randn(1, 3, 1000,1000)\n",
    "            torch.onnx.export(\n",
    "                model,\n",
    "                dummy_input,\n",
    "                model_file,\n",
    "                export_params=True,\n",
    "                opset_version=11,\n",
    "                do_constant_folding=True,\n",
    "                input_names=['input'],\n",
    "                output_names=list(model(dummy_input)[0].keys()) ,\n",
    "                dynamic_axes={\n",
    "                    'input': {0: 'batch_size', 2: 'height', 3: 'width'},  # Make batch, height, and width dynamic\n",
    "                    'output': {0: 'batch_size'}  # Example: make output batch dimension dynamic\n",
    "                }\n",
    "            )\n",
    "            return get_model_and_weights(builder_func, weight_class, get_onnx=True) \n",
    "            \n",
    "\n",
    "def detection2D(files, output_dir='output', batch_size=5, builder_and_weights=(fasterrcnn_resnet50_fpn_v2, FasterRCNN_ResNet50_FPN_V2_Weights), use_onnx=False):\n",
    "    logger = logging.getLogger(\"detection2D\")\n",
    "    if not os.path.isdir(output_dir): \n",
    "        logger.warning(f\"Output directory '{output_dir}' was not found. Creating directory '{output_dir}'\")\n",
    "        os.mkdir(output_dir)\n",
    "    fnames = [os.path.basename(f) for f in files]\n",
    "    save_files = [os.path.join(output_dir, p) for p in fnames]\n",
    "    imgs = [(decode_image(f), sf) for f, sf in zip(files, save_files)]\n",
    "    batches = batched(imgs, batch_size) \n",
    "    batches = (tuple(zip(*b)) for b in batches)\n",
    "    \n",
    "    logger.info(\"Loading model\")\n",
    "    model, weights = get_model_and_weights(*builder_and_weights, use_onnx)\n",
    "    preprocess = weights.transforms()\n",
    "    def infer(images):\n",
    "        processed_images = [preprocess(img) for img in images] \n",
    "        return model(processed_images) \n",
    "\n",
    "    logger.info(\"Starting detection\")\n",
    "    for batch in tqdm(batches, total=math.ceil(len(imgs)/batch_size)):\n",
    "        images, save_names = batch\n",
    "        predictions = infer(images) \n",
    "        \n",
    "        # detect_annotate_save(images, save_names, preprocess, model, weights.meta[\"categories\"]) \n",
    "        annotated_images = annotate_batch(images, predictions, weights.meta['categories']) \n",
    "        [img.save(sn) for img, sn in zip(annotated_images, save_names)]\n",
    "\n",
    "def get_infer_method(model, preproc):\n",
    "    def infer(imgs): \n",
    "        proced = [preproc(img) for img in imgs] \n",
    "        return model(proced) \n",
    "    return infer\n",
    "def cv2torch(frame): \n",
    "    return torch.from_numpy(\n",
    "        np.transpose(\n",
    "            cv2.cvtColor(frame, cv2.COLOR_BGR2RGB), \n",
    "            (2,0,1) \n",
    "        )\n",
    "    )\n",
    "def pil2cv2(img): \n",
    "    return cv2.cvtColor(np.asarray(img), cv2.COLOR_RGB2BGR)\n",
    "def frame_generator(cap): \n",
    "    ret, frame = cap.read()\n",
    "    while ret: \n",
    "        yield frame\n",
    "        ret, frame = cap.read()\n",
    "\n",
    "def video_detection2d(video_path, output_path, batch_size=2, use_onnx=True):\n",
    "    logger = logging.getLogger(\"video_detection2d\")\n",
    "    output_dir = os.path.dirname(output_path) \n",
    "    if not os.path.isdir(output_dir): \n",
    "        logger.info(f\"output dir {output_dir} not found. Creating output dir {output_dir}\") \n",
    "        os.mkdir(output_dir) \n",
    "        \n",
    "    cap = cv2.VideoCapture(video_path) \n",
    "    fps = cap.get(cv2.CAP_PROP_FPS)\n",
    "    frame_count = cap.get(cv2.CAP_PROP_FRAME_COUNT) \n",
    "    # print(cap.get(cv2.CAP_PROP_FRAME_WIDTH),cap.get(cv2.CAP_PROP_FRAME_HEIGHT))\n",
    "    fourcc = cv2.VideoWriter_fourcc(*'mp4v')\n",
    "    out = cv2.VideoWriter(output_path, fourcc, fps, (int(cap.get(cv2.CAP_PROP_FRAME_WIDTH)),int(cap.get(cv2.CAP_PROP_FRAME_HEIGHT))))\n",
    "\n",
    "    model, weights = get_model_and_weights(fcos_resnet50_fpn, FCOS_ResNet50_FPN_Weights, get_onnx=use_onnx) \n",
    "    infer = get_infer_method(model, weights.transforms())\n",
    "    \n",
    "    batched_frames = batched(frame_generator(cap), batch_size)\n",
    "    for i, batch in enumerate(tqdm(batched_frames, total=math.ceil(frame_count/batch_size))): \n",
    "        # batch = next(iter(batched_frames))\n",
    "        if i%3==0: continue\n",
    "        try: \n",
    "            imgs = [cv2torch(img) for img in batch] \n",
    "            preds = infer(imgs) \n",
    "            annotated_batch = annotate_batch(imgs, preds, weights.meta['categories'])\n",
    "            out_frames = [pil2cv2(img) for img in annotated_batch]  \n",
    "            for frame in out_frames: out.write(frame) \n",
    "        except KeyboardInterrupt: \n",
    "            break\n",
    "        \n",
    "    \n",
    "    cap.release()\n",
    "    out.release()\n"
   ]
  },
  {
   "cell_type": "markdown",
   "id": "c93a48eb-696d-496f-84a1-2663ecee9985",
   "metadata": {},
   "source": [
    "# Detection on 2d images\n",
    "\n",
    "The following is a time analysis demo of detection on multiple different stock photos. This photos vary in size, aspect ration, contents and more.\n",
    "\n",
    "We will compare the time taken to detect and annotate all images by 2 different models on 2 different runtimes for a total of 4 different cases\n",
    "\n",
    "**Models**\n",
    "- [FasterRCNN with a resnet50+fpn for a backbone](https://pytorch.org/vision/stable/models/generated/torchvision.models.detection.fasterrcnn_resnet50_fpn_v2.html#torchvision.models.detection.fasterrcnn_resnet50_fpn_v2)\n",
    "- [FCOS with a resnet50+fpn for a backbone](https://pytorch.org/vision/stable/models/generated/torchvision.models.detection.fcos_resnet50_fpn.html#torchvision.models.detection.FCOS_ResNet50_FPN_Weights)\n",
    "\n",
    "**Runtimes**\n",
    "- Pytorch\n",
    "- ONNX runtime (python)"
   ]
  },
  {
   "cell_type": "code",
   "execution_count": 4,
   "id": "c3b088ac-34d5-4fe3-b1b2-9f2b03348e2a",
   "metadata": {},
   "outputs": [],
   "source": [
    "files = [os.path.join(\"pics\", f) for f in os.listdir(\"pics\")] "
   ]
  },
  {
   "cell_type": "code",
   "execution_count": 6,
   "id": "37cae6e2-26fc-42c8-b67b-18745fb0f278",
   "metadata": {},
   "outputs": [
    {
     "name": "stderr",
     "output_type": "stream",
     "text": [
      "Output directory 'frcnn_torch' was not found. Creating directory 'frcnn_torch'\n"
     ]
    },
    {
     "name": "stdout",
     "output_type": "stream",
     "text": [
      "Timing FRCNN_torch\n"
     ]
    },
    {
     "name": "stderr",
     "output_type": "stream",
     "text": [
      "  0%|                                                                                                                                      | 0/16 [00:00<?, ?it/s]/home/raka/Projects/InferenceOptimization/.env6/lib/python3.10/site-packages/torchvision/utils.py:211: UserWarning: boxes doesn't contain any box. No box was drawn\n",
      "  warnings.warn(\"boxes doesn't contain any box. No box was drawn\")\n",
      "100%|█████████████████████████████████████████████████████████████████████████████████████████████████████████████████████████████| 16/16 [11:28<00:00, 43.00s/it]\n",
      "Output directory 'frcnn_onnx' was not found. Creating directory 'frcnn_onnx'\n"
     ]
    },
    {
     "name": "stdout",
     "output_type": "stream",
     "text": [
      "11.0:35.27180624008179 minutes\n",
      "Timing FRCNN_ONNX\n"
     ]
    },
    {
     "name": "stderr",
     "output_type": "stream",
     "text": [
      "100%|█████████████████████████████████████████████████████████████████████████████████████████████████████████████████████████████| 16/16 [03:09<00:00, 11.84s/it]\n",
      "Output directory 'fcos_torch' was not found. Creating directory 'fcos_torch'\n"
     ]
    },
    {
     "name": "stdout",
     "output_type": "stream",
     "text": [
      "3.0:49.718024015426636 minutes\n",
      "Timing FCOS_torch\n"
     ]
    },
    {
     "name": "stderr",
     "output_type": "stream",
     "text": [
      "100%|█████████████████████████████████████████████████████████████████████████████████████████████████████████████████████████████| 16/16 [05:07<00:00, 19.21s/it]\n",
      "Output directory 'fcos_onnx' was not found. Creating directory 'fcos_onnx'\n"
     ]
    },
    {
     "name": "stdout",
     "output_type": "stream",
     "text": [
      "5.0:19.517751693725586 minutes\n",
      "Timing FCOS_ONNX\n"
     ]
    },
    {
     "name": "stderr",
     "output_type": "stream",
     "text": [
      "100%|█████████████████████████████████████████████████████████████████████████████████████████████████████████████████████████████| 16/16 [02:14<00:00,  8.41s/it]\n"
     ]
    },
    {
     "name": "stdout",
     "output_type": "stream",
     "text": [
      "2.0:31.388925790786743 minutes\n"
     ]
    }
   ],
   "source": [
    "import time\n",
    "\n",
    "# FRCNN_torch \n",
    "print(\"Timing FRCNN_torch\")\n",
    "frcnn_torch = time.time()\n",
    "detection2D(files,output_dir=\"frcnn_torch\",batch_size=3, builder_and_weights=(fasterrcnn_resnet50_fpn_v2, FasterRCNN_ResNet50_FPN_V2_Weights), use_onnx=False) \n",
    "frcnn_torch = time.time()-frcnn_torch\n",
    "print(f\"{frcnn_torch//60}:{frcnn_torch%60} minutes\")\n",
    "# FRCNN_ONNX\n",
    "print(\"Timing FRCNN_ONNX\")\n",
    "frcnn_onnx = time.time()\n",
    "detection2D(files,output_dir=\"frcnn_onnx\",batch_size=3, builder_and_weights=(fasterrcnn_resnet50_fpn_v2, FasterRCNN_ResNet50_FPN_V2_Weights), use_onnx=True) \n",
    "frcnn_onnx = time.time()-frcnn_onnx\n",
    "print(f\"{frcnn_onnx//60}:{frcnn_onnx%60} minutes\")\n",
    "# FCOS_torch\n",
    "print(\"Timing FCOS_torch\")\n",
    "fcos_torch = time.time()\n",
    "detection2D(files,output_dir=\"fcos_torch\",batch_size=3, builder_and_weights=(fcos_resnet50_fpn, FCOS_ResNet50_FPN_Weights), use_onnx=False) \n",
    "fcos_torch = time.time()-fcos_torch\n",
    "print(f\"{fcos_torch//60}:{fcos_torch%60} minutes\")\n",
    "# FCOS_ONNX\n",
    "print(\"Timing FCOS_ONNX\")\n",
    "fcos_onnx = time.time()\n",
    "detection2D(files,output_dir=\"fcos_onnx\",batch_size=3, builder_and_weights=(fcos_resnet50_fpn, FCOS_ResNet50_FPN_Weights), use_onnx=True) \n",
    "fcos_onnx = time.time()-fcos_onnx\n",
    "print(f\"{fcos_onnx//60}:{fcos_onnx%60} minutes\")\n"
   ]
  },
  {
   "cell_type": "markdown",
   "id": "7395f272-353d-4c0a-ba43-ecd5970b5497",
   "metadata": {},
   "source": [
    "23 min to run all tests"
   ]
  },
  {
   "cell_type": "code",
   "execution_count": 18,
   "id": "3c39a449-bcbb-4097-bad5-39a126efe188",
   "metadata": {
    "scrolled": true
   },
   "outputs": [
    {
     "data": {
      "text/plain": [
       "Text(0.5, 1.0, 'execution time')"
      ]
     },
     "execution_count": 18,
     "metadata": {},
     "output_type": "execute_result"
    },
    {
     "data": {
      "image/png": "[encoded data removed]",
      "text/plain": [
       "<Figure size 640x480 with 1 Axes>"
      ]
     },
     "metadata": {},
     "output_type": "display_data"
    }
   ],
   "source": [
    "import pandas as pd \n",
    "import seaborn as sns \n",
    "import matplotlib.pyplot as plt \n",
    "\n",
    "df = pd.DataFrame({\n",
    "    \"seconds\": [frcnn_torch, frcnn_onnx, fcos_torch, fcos_onnx], \n",
    "    \"model\": [\"FRCNN\",\"FRCNN\",\"FCOS\",\"FCOS\",], \n",
    "    \"exec_env\": [\"TORCH\", \"ONNX\",\"TORCH\", \"ONNX\"]\n",
    "})\n",
    "sns.barplot(df, y='seconds', x='model', hue='exec_env')\n",
    "plt.title(\"execution time\")"
   ]
  },
  {
   "cell_type": "markdown",
   "id": "a722a55f-b9d2-412b-9995-11b8e9057ef1",
   "metadata": {},
   "source": [
    "# Detection on video\n",
    "\n",
    "The following is a time analysis demo of detection on an mp4 file\n",
    "\n",
    "We will compare the performance of FCOS on torch vs onnx"
   ]
  },
  {
   "cell_type": "code",
   "execution_count": 22,
   "id": "b239856a-fa61-4efe-90c7-ac649e5316ac",
   "metadata": {},
   "outputs": [
    {
     "name": "stdout",
     "output_type": "stream",
     "text": [
      "Timing FCOS_ONNX\n"
     ]
    },
    {
     "name": "stderr",
     "output_type": "stream",
     "text": [
      " 69%|████████████████████████████████████████████████████████████████████████████████████▉                                      | 259/375 [09:24<04:12,  2.18s/it]\n"
     ]
    },
    {
     "name": "stdout",
     "output_type": "stream",
     "text": [
      "9.0:24.45399260520935 minutes\n",
      "Timing FCOS_torch\n"
     ]
    },
    {
     "name": "stderr",
     "output_type": "stream",
     "text": [
      "  0%|▎                                                                                                                            | 1/375 [00:00<02:49,  2.20it/s]"
     ]
    },
    {
     "name": "stdout",
     "output_type": "stream",
     "text": [
      "0.0:1.1578750610351562 minutes\n"
     ]
    },
    {
     "name": "stderr",
     "output_type": "stream",
     "text": [
      "\n"
     ]
    }
   ],
   "source": [
    "# FCOS_ONNX\n",
    "print(\"Timing FCOS_ONNX\")\n",
    "vfcos_onnx = time.time()\n",
    "video_detection2d(\"vids/2048206-hd_1920_1080_30fps.mp4\", \"vids/FCOS_ONNX.mp4\", use_onnx=True)\n",
    "vfcos_onnx = time.time()-vfcos_onnx\n",
    "print(f\"{vfcos_onnx//60}:{vfcos_onnx%60} minutes\")\n",
    "# FCOS_torch\n",
    "print(\"Timing FCOS_torch\")\n",
    "vfcos_torch = time.time()\n",
    "video_detection2d(\"vids/2048206-hd_1920_1080_30fps.mp4\", \"vids/FCOS_TORCH.mp4\", use_onnx=False)\n",
    "vfcos_torch = time.time()-vfcos_torch\n",
    "print(f\"{vfcos_torch//60}:{vfcos_torch%60} minutes\")\n"
   ]
  },
  {
   "cell_type": "code",
   "execution_count": null,
   "id": "9c47c190-60fa-4844-95c0-7220ec99e092",
   "metadata": {},
   "outputs": [],
   "source": []
  }
 ],
 "metadata": {
  "kernelspec": {
   "display_name": "Python 3 (ipykernel)",
   "language": "python",
   "name": "python3"
  },
  "language_info": {
   "codemirror_mode": {
    "name": "ipython",
    "version": 3
   },
   "file_extension": ".py",
   "mimetype": "text/x-python",
   "name": "python",
   "nbconvert_exporter": "python",
   "pygments_lexer": "ipython3",
   "version": "3.10.14"
  }
 },
 "nbformat": 4,
 "nbformat_minor": 5
}
